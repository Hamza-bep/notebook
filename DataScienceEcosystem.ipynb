{
  "nbformat": 4,
  "nbformat_minor": 0,
  "metadata": {
    "colab": {
      "provenance": []
    },
    "kernelspec": {
      "name": "python3",
      "display_name": "Python 3"
    },
    "language_info": {
      "name": "python"
    }
  },
  "cells": [
    {
      "cell_type": "markdown",
      "source": [
        "<h1>Data Science Tools and Ecosystem</h1>\n"
      ],
      "metadata": {
        "id": "RiLdjPBOYnrp"
      }
    },
    {
      "cell_type": "markdown",
      "source": [
        "<h2> INTRO</h2>\n",
        "In this notebook, Data Science Tools and Ecosystem are summarized.\n"
      ],
      "metadata": {
        "id": "EWg6S5WEZOsT"
      }
    },
    {
      "cell_type": "markdown",
      "source": [
        "<b>objectives:</b>\n",
        "\n",
        "<ul>\n",
        "<li>List popular languages for Data Science</li>\n",
        "<li>List popular librairies for Data Science</li>\n",
        "<li>List popular tools for Data Science</li>\n",
        "</ul>"
      ],
      "metadata": {
        "id": "CmzmkDFw7_xr"
      }
    },
    {
      "cell_type": "markdown",
      "source": [
        "Some of the popular languages that Data Scientists use are:\n",
        "<ol>\n",
        "<li>python</li>\n",
        "<li>R</li>\n",
        "<li>Go</li>\n",
        "</ol>"
      ],
      "metadata": {
        "id": "sx8r42jwZmxR"
      }
    },
    {
      "cell_type": "code",
      "source": [
        "import pandas as pd\n",
        "import numpy as np"
      ],
      "metadata": {
        "id": "yc_dlsRrs_NM"
      },
      "execution_count": null,
      "outputs": []
    },
    {
      "cell_type": "markdown",
      "source": [
        "Some of the commonly used libraries used by Data Scientists include:\n",
        "<ol>\n",
        "<li>numpy</li>\n",
        "<li>pandas</li>\n",
        "<li>tensorflow</li>\n",
        "</ol>"
      ],
      "metadata": {
        "id": "RL_ckLp7aIBM"
      }
    },
    {
      "cell_type": "markdown",
      "source": [
        "<table>\n",
        "<tr>\n",
        "<td>Data science tools</td>\n",
        "</tr>\n",
        "<tr>\n",
        "<td>data assets management</td>\n",
        "</tr>\n",
        "<tr>\n",
        "<td>code environement</td>\n",
        "</tr>\n",
        "<tr>\n",
        "<td>apache </td>\n",
        "</tr>"
      ],
      "metadata": {
        "id": "8DGI1sZXauHn"
      }
    },
    {
      "cell_type": "markdown",
      "source": [
        "<h1>Below are a few examples of evaluating arithmetic expressions in Python: </h1>\n",
        "<ul>\n",
        "  <li> + (addition)</li>\n",
        "  <li> * (multiplication)</li>\n",
        "  <li> - (substraction)</li>\n",
        "  <li>/ (division)</li>\n",
        "\n",
        "</ul>\n",
        "\n",
        "\n",
        "\n",
        "\n",
        "\n",
        "\n"
      ],
      "metadata": {
        "id": "4cgV8omO5b1i"
      }
    },
    {
      "cell_type": "markdown",
      "source": [
        "This a simple arithmetic expression to mutiply then add integers:"
      ],
      "metadata": {
        "id": "3gRvdylI6xlk"
      }
    },
    {
      "cell_type": "code",
      "source": [
        "(3*4)+5"
      ],
      "metadata": {
        "colab": {
          "base_uri": "https://localhost:8080/"
        },
        "id": "wre4EBVF6wgY",
        "outputId": "800f0597-8405-43d7-8a26-8cdb77eabfc7"
      },
      "execution_count": null,
      "outputs": [
        {
          "output_type": "execute_result",
          "data": {
            "text/plain": [
              "17"
            ]
          },
          "metadata": {},
          "execution_count": 1
        }
      ]
    },
    {
      "cell_type": "markdown",
      "source": [
        "<h3> This will convert 200 minutes to hours by diving by 60</h3>"
      ],
      "metadata": {
        "id": "8EZTb55O7FLl"
      }
    },
    {
      "cell_type": "code",
      "source": [
        "n=200\n",
        "n/60"
      ],
      "metadata": {
        "colab": {
          "base_uri": "https://localhost:8080/"
        },
        "id": "aaQBrT667Ozy",
        "outputId": "f3eeb238-acd2-42dc-dc5e-c7ca3e333e96"
      },
      "execution_count": null,
      "outputs": [
        {
          "output_type": "execute_result",
          "data": {
            "text/plain": [
              "3.3333333333333335"
            ]
          },
          "metadata": {},
          "execution_count": 2
        }
      ]
    },
    {
      "cell_type": "markdown",
      "source": [
        "<h2>Author:</h2> h.Bouali"
      ],
      "metadata": {
        "id": "oaYxIMV4_gRU"
      }
    }
  ]
}